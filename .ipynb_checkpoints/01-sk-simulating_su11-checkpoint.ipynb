{
 "cells": [
  {
   "cell_type": "code",
   "execution_count": 4,
   "id": "06469bd8-0519-4b77-81bd-f528082e9e37",
   "metadata": {},
   "outputs": [],
   "source": [
    "import numpy as np\n",
    "from scipy.integrate import odeint\n",
    "from icecream import ic\n",
    "import matplotlib.pyplot as plt\n",
    "\n",
    "from typing import Optional\n",
    "from typing import Union\n",
    "from typing import List\n",
    "from typing import Tuple\n",
    "\n",
    "\n",
    "def build_hamiltonian(\n",
    "        time: float,\n",
    "        energy: float,\n",
    "        omega: float,\n",
    "        g_1: float,\n",
    "        g_2: float,\n",
    ") -> np.ndarray:\n",
    "    h_0 = energy + 1 + g_1 / g_2 * np.cos(omega * time)\n",
    "    h_1 = 1 + g_1 / g_2 * np.cos(omega * time)\n",
    "    return np.array([\n",
    "        [   0,   0,  h_1],\n",
    "        [   0,   0, -h_0],\n",
    "        [ h_1, h_0,    0]],\n",
    "    )\n",
    "\n",
    "\n",
    "def system(\n",
    "        X: np.ndarray,\n",
    "        time: float,\n",
    "        energy: float,\n",
    "        omega: float,\n",
    "        g_1: float,\n",
    "        g_2: float,\n",
    ") -> np.ndarray:\n",
    "    return np.matmul(\n",
    "        build_hamiltonian(\n",
    "            time,\n",
    "            energy,\n",
    "            omega,\n",
    "            g_1,\n",
    "            g_2\n",
    "        ),\n",
    "        X\n",
    "    )\n",
    "\n",
    "\n",
    "def plot_poincare_disk(\n",
    "        ax: plt.Axes,\n",
    "        k_0: np.ndarray,\n",
    "        k_1: np.ndarray,\n",
    "        k_2: np.ndarray,\n",
    ") -> plt.Axes:\n",
    "    tan_theta = - k_2 / k_1\n",
    "    theta = np.arctan(tan_theta)\n",
    "\n",
    "    k2 = k_1 * k_1 + k_2 * k_2\n",
    "    k = np.sqrt(k2)\n",
    "    mask = np.isclose(k, 0)\n",
    "    umask = np.logical_not(mask)\n",
    "    z_mag = np.zeros_like(k)\n",
    "    z_mag[mask] = k[mask] - (k * k2)[mask] + 2 * (k * k2 ** 2)[mask]\n",
    "    z_mag[umask] = (-1 + np.sqrt(1 + 4 * k2[umask])) / (2 * k[umask])\n",
    "    ax.scatter(\n",
    "        z_mag * np.cos(theta),\n",
    "        z_mag * np.sin(theta),\n",
    "    )\n",
    "    return ax\n",
    "\n",
    "\n",
    "def solve_system(\n",
    "        energys: Union[float, List[float], np.ndarray],\n",
    "        laser_frequency: float,\n",
    "        stop_time: float,\n",
    "        coupling_1: float,\n",
    "        coupling_2: float,\n",
    "        initial_conditions: np.ndarray,\n",
    "        start_time: Optional[float] = None,\n",
    ") -> np.ndarray:\n",
    "\n",
    "    omega = laser_frequency\n",
    "    time_step = 1 / (20 * omega)\n",
    "    if start_time is None:\n",
    "        start_time = 0\n",
    "    time_steps = np.arange(start_time, stop_time, time_step)\n",
    "\n",
    "    if isinstance(energys, list) or isinstance(energys, np.ndarray):\n",
    "        solns = [\n",
    "            odeint(\n",
    "                system,\n",
    "                initial_conditions,\n",
    "                time_steps,\n",
    "                args=(\n",
    "                    energy,\n",
    "                    omega,\n",
    "                    coupling_1,\n",
    "                    coupling_2\n",
    "                ),\n",
    "                full_output=False,\n",
    "            )\n",
    "            for energy in energys\n",
    "        ]\n",
    "    else:\n",
    "        solns = odeint(\n",
    "            system,\n",
    "            initial_conditions,\n",
    "            time_steps,\n",
    "            args=(\n",
    "                energys,\n",
    "                omega,\n",
    "                coupling_1,\n",
    "                coupling_2\n",
    "            ),\n",
    "            full_output=False,\n",
    "        )\n",
    "\n",
    "    return np.array(solns)\n"
   ]
  },
  {
   "cell_type": "code",
   "execution_count": 26,
   "id": "6bd2c304-cc6c-487b-ae4a-10412b077e72",
   "metadata": {},
   "outputs": [
    {
     "name": "stderr",
     "output_type": "stream",
     "text": [
      "C:\\Users\\xzono\\AppData\\Local\\Temp\\ipykernel_22368\\623677791.py:54: RuntimeWarning: invalid value encountered in divide\n",
      "  tan_theta = - k_2 / k_1\n"
     ]
    },
    {
     "data": {
      "text/plain": [
       "<Axes: >"
      ]
     },
     "execution_count": 26,
     "metadata": {},
     "output_type": "execute_result"
    },
    {
     "data": {
      "image/png": "[encoded data removed]",
      "text/plain": [
       "<Figure size 640x480 with 1 Axes>"
      ]
     },
     "metadata": {},
     "output_type": "display_data"
    }
   ],
   "source": [
    "fig, ax = plt.subplots()\n",
    "\n",
    "sol = solve_system(1000, 1000, 1, 1,0.1, [1,0,0])\n",
    "plot_poincare_disk(ax, sol[:,0],sol[:,1],sol[:,2])"
   ]
  },
  {
   "cell_type": "code",
   "execution_count": null,
   "id": "500ad9aa-5517-4dff-ba1f-f83ad9f06062",
   "metadata": {},
   "outputs": [],
   "source": []
  }
 ],
 "metadata": {
  "kernelspec": {
   "display_name": "Python 3 (ipykernel)",
   "language": "python",
   "name": "python3"
  },
  "language_info": {
   "codemirror_mode": {
    "name": "ipython",
    "version": 3
   },
   "file_extension": ".py",
   "mimetype": "text/x-python",
   "name": "python",
   "nbconvert_exporter": "python",
   "pygments_lexer": "ipython3",
   "version": "3.10.14"
  }
 },
 "nbformat": 4,
 "nbformat_minor": 5
}
